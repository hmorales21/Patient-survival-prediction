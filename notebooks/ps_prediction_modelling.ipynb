{
 "cells": [
  {
   "attachments": {},
   "cell_type": "markdown",
   "metadata": {},
   "source": [
    "<h1>Patient Survival Prediction</h1>\n",
    "<hr>\n",
    "<h2>Project 4</h2>\n",
    "<p>This project predicts the survival of pacients in a UCI.</p>\n",
    "<hr>\n",
    "<h2>Modelling</h2>"
   ]
  },
  {
   "cell_type": "code",
   "execution_count": 30,
   "metadata": {},
   "outputs": [],
   "source": [
    "#importing libraries\n",
    "import numpy as np\n",
    "import pandas as pd\n",
    "import seaborn as sns\n",
    "import missingno as msno\n",
    "import matplotlib.pyplot as plt\n",
    "\n",
    "\n",
    "import plotly.express as px\n",
    "import plotly.offline as py\n",
    "import plotly.graph_objs as go\n",
    "import plotly.tools as tls\n",
    "import plotly.figure_factory as ff\n",
    "\n",
    "from sklearn.model_selection import train_test_split, GridSearchCV\n",
    "from sklearn.metrics import (accuracy_score, make_scorer,\n",
    "                            classification_report,\n",
    "                            roc_auc_score, roc_curve, auc, precision_recall_curve,\n",
    "                            confusion_matrix)\n",
    "from sklearn.preprocessing import MinMaxScaler\n",
    "from sklearn.model_selection import cross_val_score\n",
    "\n",
    "import keras\n",
    "from keras.models import Sequential\n",
    "from keras.layers import Dense\n",
    "from keras.optimizers import Adam, SGD, RMSprop, Adadelta, Adagrad, Adamax, Nadam, Ftrl\n",
    "from keras.callbacks import EarlyStopping, ModelCheckpoint\n",
    "#from keras.wrappers.scikit_learn import KerasClassifier\n",
    "#this wrapper iso ne oftThe original TensorFlow (TF) wrappers and are not actively maintained,\n",
    "# and will be removed in a future release.\n",
    "from scikeras.wrappers import KerasClassifier, KerasRegressor\n",
    "from math import floor\n",
    "from math import trunc\n",
    "from bayes_opt import BayesianOptimization\n",
    "from sklearn.model_selection import StratifiedKFold\n",
    "from keras.layers import LeakyReLU\n",
    "LeakyReLU = LeakyReLU(alpha=0.1)\n",
    "\n",
    "import tensorflow as tf\n",
    "\n",
    "import joblib\n",
    "\n",
    "%matplotlib inline\n"
   ]
  },
  {
   "attachments": {},
   "cell_type": "markdown",
   "metadata": {},
   "source": [
    "<hr>\n",
    "Open dataset\n",
    "<hr>"
   ]
  },
  {
   "cell_type": "code",
   "execution_count": 2,
   "metadata": {},
   "outputs": [],
   "source": [
    "df_patients = pd.read_csv('../datasets/dataset_preprocessed.csv')"
   ]
  },
  {
   "cell_type": "code",
   "execution_count": 3,
   "metadata": {},
   "outputs": [
    {
     "data": {
      "text/html": [
       "<div>\n",
       "<style scoped>\n",
       "    .dataframe tbody tr th:only-of-type {\n",
       "        vertical-align: middle;\n",
       "    }\n",
       "\n",
       "    .dataframe tbody tr th {\n",
       "        vertical-align: top;\n",
       "    }\n",
       "\n",
       "    .dataframe thead th {\n",
       "        text-align: right;\n",
       "    }\n",
       "</style>\n",
       "<table border=\"1\" class=\"dataframe\">\n",
       "  <thead>\n",
       "    <tr style=\"text-align: right;\">\n",
       "      <th></th>\n",
       "      <th>hospital_death</th>\n",
       "      <th>age</th>\n",
       "      <th>bmi</th>\n",
       "      <th>elective_surgery</th>\n",
       "      <th>height</th>\n",
       "      <th>pre_icu_los_days</th>\n",
       "      <th>weight</th>\n",
       "      <th>apache_2_diagnosis</th>\n",
       "      <th>apache_3j_diagnosis</th>\n",
       "      <th>apache_post_operative</th>\n",
       "      <th>...</th>\n",
       "      <th>hepatic_failure</th>\n",
       "      <th>immunosuppression</th>\n",
       "      <th>leukemia</th>\n",
       "      <th>lymphoma</th>\n",
       "      <th>solid_tumor_with_metastasis</th>\n",
       "      <th>ethnicity_encoded</th>\n",
       "      <th>gender_encoded</th>\n",
       "      <th>icu_type_encoded</th>\n",
       "      <th>apache_3j_bodysystem_encoded</th>\n",
       "      <th>apache_2_bodysystem_encoded</th>\n",
       "    </tr>\n",
       "  </thead>\n",
       "  <tbody>\n",
       "    <tr>\n",
       "      <th>0</th>\n",
       "      <td>0.0</td>\n",
       "      <td>68.0</td>\n",
       "      <td>22.730000</td>\n",
       "      <td>0.0</td>\n",
       "      <td>180.3</td>\n",
       "      <td>0.541667</td>\n",
       "      <td>73.9</td>\n",
       "      <td>113.0</td>\n",
       "      <td>502.01</td>\n",
       "      <td>0.0</td>\n",
       "      <td>...</td>\n",
       "      <td>0.0</td>\n",
       "      <td>0.0</td>\n",
       "      <td>0.0</td>\n",
       "      <td>0.0</td>\n",
       "      <td>0.0</td>\n",
       "      <td>2.0</td>\n",
       "      <td>1.0</td>\n",
       "      <td>2.0</td>\n",
       "      <td>9.0</td>\n",
       "      <td>0.0</td>\n",
       "    </tr>\n",
       "    <tr>\n",
       "      <th>1</th>\n",
       "      <td>0.0</td>\n",
       "      <td>77.0</td>\n",
       "      <td>27.420000</td>\n",
       "      <td>0.0</td>\n",
       "      <td>160.0</td>\n",
       "      <td>0.927778</td>\n",
       "      <td>70.2</td>\n",
       "      <td>108.0</td>\n",
       "      <td>203.01</td>\n",
       "      <td>0.0</td>\n",
       "      <td>...</td>\n",
       "      <td>0.0</td>\n",
       "      <td>0.0</td>\n",
       "      <td>0.0</td>\n",
       "      <td>0.0</td>\n",
       "      <td>0.0</td>\n",
       "      <td>2.0</td>\n",
       "      <td>0.0</td>\n",
       "      <td>5.0</td>\n",
       "      <td>8.0</td>\n",
       "      <td>6.0</td>\n",
       "    </tr>\n",
       "    <tr>\n",
       "      <th>2</th>\n",
       "      <td>0.0</td>\n",
       "      <td>25.0</td>\n",
       "      <td>31.950000</td>\n",
       "      <td>0.0</td>\n",
       "      <td>172.7</td>\n",
       "      <td>0.000694</td>\n",
       "      <td>95.3</td>\n",
       "      <td>122.0</td>\n",
       "      <td>703.03</td>\n",
       "      <td>0.0</td>\n",
       "      <td>...</td>\n",
       "      <td>0.0</td>\n",
       "      <td>0.0</td>\n",
       "      <td>0.0</td>\n",
       "      <td>0.0</td>\n",
       "      <td>0.0</td>\n",
       "      <td>2.0</td>\n",
       "      <td>0.0</td>\n",
       "      <td>5.0</td>\n",
       "      <td>5.0</td>\n",
       "      <td>3.0</td>\n",
       "    </tr>\n",
       "    <tr>\n",
       "      <th>3</th>\n",
       "      <td>0.0</td>\n",
       "      <td>81.0</td>\n",
       "      <td>22.640000</td>\n",
       "      <td>1.0</td>\n",
       "      <td>165.1</td>\n",
       "      <td>0.000694</td>\n",
       "      <td>61.7</td>\n",
       "      <td>203.0</td>\n",
       "      <td>1206.03</td>\n",
       "      <td>1.0</td>\n",
       "      <td>...</td>\n",
       "      <td>0.0</td>\n",
       "      <td>0.0</td>\n",
       "      <td>0.0</td>\n",
       "      <td>0.0</td>\n",
       "      <td>0.0</td>\n",
       "      <td>2.0</td>\n",
       "      <td>0.0</td>\n",
       "      <td>2.0</td>\n",
       "      <td>0.0</td>\n",
       "      <td>0.0</td>\n",
       "    </tr>\n",
       "    <tr>\n",
       "      <th>4</th>\n",
       "      <td>0.0</td>\n",
       "      <td>67.0</td>\n",
       "      <td>27.560000</td>\n",
       "      <td>0.0</td>\n",
       "      <td>190.5</td>\n",
       "      <td>0.000694</td>\n",
       "      <td>100.0</td>\n",
       "      <td>301.0</td>\n",
       "      <td>403.01</td>\n",
       "      <td>0.0</td>\n",
       "      <td>...</td>\n",
       "      <td>0.0</td>\n",
       "      <td>0.0</td>\n",
       "      <td>0.0</td>\n",
       "      <td>0.0</td>\n",
       "      <td>0.0</td>\n",
       "      <td>2.0</td>\n",
       "      <td>1.0</td>\n",
       "      <td>5.0</td>\n",
       "      <td>7.0</td>\n",
       "      <td>4.0</td>\n",
       "    </tr>\n",
       "    <tr>\n",
       "      <th>5</th>\n",
       "      <td>0.0</td>\n",
       "      <td>59.0</td>\n",
       "      <td>57.450000</td>\n",
       "      <td>0.0</td>\n",
       "      <td>165.1</td>\n",
       "      <td>0.000694</td>\n",
       "      <td>156.6</td>\n",
       "      <td>108.0</td>\n",
       "      <td>203.01</td>\n",
       "      <td>0.0</td>\n",
       "      <td>...</td>\n",
       "      <td>0.0</td>\n",
       "      <td>0.0</td>\n",
       "      <td>0.0</td>\n",
       "      <td>0.0</td>\n",
       "      <td>0.0</td>\n",
       "      <td>2.0</td>\n",
       "      <td>0.0</td>\n",
       "      <td>5.0</td>\n",
       "      <td>8.0</td>\n",
       "      <td>6.0</td>\n",
       "    </tr>\n",
       "    <tr>\n",
       "      <th>6</th>\n",
       "      <td>0.0</td>\n",
       "      <td>50.0</td>\n",
       "      <td>25.710000</td>\n",
       "      <td>0.0</td>\n",
       "      <td>175.3</td>\n",
       "      <td>0.060417</td>\n",
       "      <td>79.0</td>\n",
       "      <td>112.0</td>\n",
       "      <td>107.01</td>\n",
       "      <td>0.0</td>\n",
       "      <td>...</td>\n",
       "      <td>0.0</td>\n",
       "      <td>0.0</td>\n",
       "      <td>0.0</td>\n",
       "      <td>0.0</td>\n",
       "      <td>0.0</td>\n",
       "      <td>6.0</td>\n",
       "      <td>1.0</td>\n",
       "      <td>0.0</td>\n",
       "      <td>0.0</td>\n",
       "      <td>0.0</td>\n",
       "    </tr>\n",
       "    <tr>\n",
       "      <th>7</th>\n",
       "      <td>0.0</td>\n",
       "      <td>72.0</td>\n",
       "      <td>28.257052</td>\n",
       "      <td>1.0</td>\n",
       "      <td>154.9</td>\n",
       "      <td>0.004861</td>\n",
       "      <td>67.8</td>\n",
       "      <td>303.0</td>\n",
       "      <td>1304.08</td>\n",
       "      <td>1.0</td>\n",
       "      <td>...</td>\n",
       "      <td>0.0</td>\n",
       "      <td>1.0</td>\n",
       "      <td>0.0</td>\n",
       "      <td>0.0</td>\n",
       "      <td>0.0</td>\n",
       "      <td>3.0</td>\n",
       "      <td>0.0</td>\n",
       "      <td>5.0</td>\n",
       "      <td>8.0</td>\n",
       "      <td>6.0</td>\n",
       "    </tr>\n",
       "    <tr>\n",
       "      <th>8</th>\n",
       "      <td>0.0</td>\n",
       "      <td>80.0</td>\n",
       "      <td>27.382812</td>\n",
       "      <td>1.0</td>\n",
       "      <td>160.0</td>\n",
       "      <td>1.271528</td>\n",
       "      <td>70.1</td>\n",
       "      <td>218.0</td>\n",
       "      <td>1505.02</td>\n",
       "      <td>1.0</td>\n",
       "      <td>...</td>\n",
       "      <td>0.0</td>\n",
       "      <td>0.0</td>\n",
       "      <td>1.0</td>\n",
       "      <td>0.0</td>\n",
       "      <td>0.0</td>\n",
       "      <td>2.0</td>\n",
       "      <td>0.0</td>\n",
       "      <td>5.0</td>\n",
       "      <td>7.0</td>\n",
       "      <td>4.0</td>\n",
       "    </tr>\n",
       "    <tr>\n",
       "      <th>9</th>\n",
       "      <td>0.0</td>\n",
       "      <td>81.0</td>\n",
       "      <td>38.189067</td>\n",
       "      <td>1.0</td>\n",
       "      <td>172.7</td>\n",
       "      <td>1.376389</td>\n",
       "      <td>113.9</td>\n",
       "      <td>303.0</td>\n",
       "      <td>1304.05</td>\n",
       "      <td>1.0</td>\n",
       "      <td>...</td>\n",
       "      <td>0.0</td>\n",
       "      <td>0.0</td>\n",
       "      <td>0.0</td>\n",
       "      <td>0.0</td>\n",
       "      <td>0.0</td>\n",
       "      <td>2.0</td>\n",
       "      <td>1.0</td>\n",
       "      <td>4.0</td>\n",
       "      <td>8.0</td>\n",
       "      <td>6.0</td>\n",
       "    </tr>\n",
       "  </tbody>\n",
       "</table>\n",
       "<p>10 rows × 104 columns</p>\n",
       "</div>"
      ],
      "text/plain": [
       "   hospital_death   age        bmi  elective_surgery  height  \\\n",
       "0             0.0  68.0  22.730000               0.0   180.3   \n",
       "1             0.0  77.0  27.420000               0.0   160.0   \n",
       "2             0.0  25.0  31.950000               0.0   172.7   \n",
       "3             0.0  81.0  22.640000               1.0   165.1   \n",
       "4             0.0  67.0  27.560000               0.0   190.5   \n",
       "5             0.0  59.0  57.450000               0.0   165.1   \n",
       "6             0.0  50.0  25.710000               0.0   175.3   \n",
       "7             0.0  72.0  28.257052               1.0   154.9   \n",
       "8             0.0  80.0  27.382812               1.0   160.0   \n",
       "9             0.0  81.0  38.189067               1.0   172.7   \n",
       "\n",
       "   pre_icu_los_days  weight  apache_2_diagnosis  apache_3j_diagnosis  \\\n",
       "0          0.541667    73.9               113.0               502.01   \n",
       "1          0.927778    70.2               108.0               203.01   \n",
       "2          0.000694    95.3               122.0               703.03   \n",
       "3          0.000694    61.7               203.0              1206.03   \n",
       "4          0.000694   100.0               301.0               403.01   \n",
       "5          0.000694   156.6               108.0               203.01   \n",
       "6          0.060417    79.0               112.0               107.01   \n",
       "7          0.004861    67.8               303.0              1304.08   \n",
       "8          1.271528    70.1               218.0              1505.02   \n",
       "9          1.376389   113.9               303.0              1304.05   \n",
       "\n",
       "   apache_post_operative  ...  hepatic_failure  immunosuppression  leukemia  \\\n",
       "0                    0.0  ...              0.0                0.0       0.0   \n",
       "1                    0.0  ...              0.0                0.0       0.0   \n",
       "2                    0.0  ...              0.0                0.0       0.0   \n",
       "3                    1.0  ...              0.0                0.0       0.0   \n",
       "4                    0.0  ...              0.0                0.0       0.0   \n",
       "5                    0.0  ...              0.0                0.0       0.0   \n",
       "6                    0.0  ...              0.0                0.0       0.0   \n",
       "7                    1.0  ...              0.0                1.0       0.0   \n",
       "8                    1.0  ...              0.0                0.0       1.0   \n",
       "9                    1.0  ...              0.0                0.0       0.0   \n",
       "\n",
       "   lymphoma  solid_tumor_with_metastasis  ethnicity_encoded  gender_encoded  \\\n",
       "0       0.0                          0.0                2.0             1.0   \n",
       "1       0.0                          0.0                2.0             0.0   \n",
       "2       0.0                          0.0                2.0             0.0   \n",
       "3       0.0                          0.0                2.0             0.0   \n",
       "4       0.0                          0.0                2.0             1.0   \n",
       "5       0.0                          0.0                2.0             0.0   \n",
       "6       0.0                          0.0                6.0             1.0   \n",
       "7       0.0                          0.0                3.0             0.0   \n",
       "8       0.0                          0.0                2.0             0.0   \n",
       "9       0.0                          0.0                2.0             1.0   \n",
       "\n",
       "   icu_type_encoded  apache_3j_bodysystem_encoded  apache_2_bodysystem_encoded  \n",
       "0               2.0                           9.0                          0.0  \n",
       "1               5.0                           8.0                          6.0  \n",
       "2               5.0                           5.0                          3.0  \n",
       "3               2.0                           0.0                          0.0  \n",
       "4               5.0                           7.0                          4.0  \n",
       "5               5.0                           8.0                          6.0  \n",
       "6               0.0                           0.0                          0.0  \n",
       "7               5.0                           8.0                          6.0  \n",
       "8               5.0                           7.0                          4.0  \n",
       "9               4.0                           8.0                          6.0  \n",
       "\n",
       "[10 rows x 104 columns]"
      ]
     },
     "execution_count": 3,
     "metadata": {},
     "output_type": "execute_result"
    }
   ],
   "source": [
    "df_patients.head(10)"
   ]
  },
  {
   "attachments": {},
   "cell_type": "markdown",
   "metadata": {},
   "source": [
    "<hr>\n",
    "Modelling\n",
    "<hr>"
   ]
  },
  {
   "cell_type": "code",
   "execution_count": 4,
   "metadata": {},
   "outputs": [],
   "source": [
    "#prepare the dataset, split into X and y datasets and then split them again into trains and test\n",
    "X = df_patients.drop(['hospital_death'], axis=1)\n",
    "y = df_patients['hospital_death']"
   ]
  },
  {
   "cell_type": "code",
   "execution_count": 5,
   "metadata": {},
   "outputs": [],
   "source": [
    "X_train, X_test, y_train, y_test = train_test_split(X, y, test_size=0.30,random_state=11, stratify = y)"
   ]
  },
  {
   "cell_type": "code",
   "execution_count": 6,
   "metadata": {},
   "outputs": [
    {
     "name": "stdout",
     "output_type": "stream",
     "text": [
      "Split Datasets\n",
      "==============\n",
      "1. X_train :(61784, 103)\n",
      "2. y_train :(61784,)\n",
      "1. X_test :(26480, 103)\n",
      "2. y_test :(26480,)\n"
     ]
    }
   ],
   "source": [
    "#let's see how split the datasets are\n",
    "print ('Split Datasets')\n",
    "print ('==============')\n",
    "print(f'1. X_train :{X_train.shape}')\n",
    "print(f'2. y_train :{y_train.shape}')\n",
    "print(f'1. X_test :{X_test.shape}')\n",
    "print(f'2. y_test :{y_test.shape}')"
   ]
  },
  {
   "attachments": {},
   "cell_type": "markdown",
   "metadata": {},
   "source": [
    "<P>Modelling the Neural Network</p>\n",
    "<hr>\n",
    "<p> 103 inputs, because is the size of the data set</p>\n",
    "<p>due the result is binary, the output is set in 1</p>"
   ]
  },
  {
   "cell_type": "code",
   "execution_count": 7,
   "metadata": {},
   "outputs": [],
   "source": [
    "# Neural network\n",
    "#\n",
    "nn_model = Sequential()\n",
    "nn_model.add(Dense(260, input_dim=103, activation='relu'))\n",
    "nn_model.add(Dense(520, activation='relu'))\n",
    "nn_model.add(Dense(260, activation='relu'))\n",
    "nn_model.add(Dense(130, activation='relu'))\n",
    "nn_model.add(Dense(65, activation='relu'))\n",
    "nn_model.add(Dense(1,activation='sigmoid'))"
   ]
  },
  {
   "cell_type": "code",
   "execution_count": 8,
   "metadata": {},
   "outputs": [],
   "source": [
    "nn_model.compile(loss='binary_crossentropy', optimizer='adam', metrics=['accuracy'])"
   ]
  },
  {
   "attachments": {},
   "cell_type": "markdown",
   "metadata": {},
   "source": [
    "We can use test data as validation data and can check the accuracies after every epoch. This will give us an insight into overfitting at the time of training only and we can take steps before the completion of all epochs. That's why the using of <b>validation_data</b> tuple in the parameters of model.fit method"
   ]
  },
  {
   "cell_type": "code",
   "execution_count": 9,
   "metadata": {},
   "outputs": [
    {
     "name": "stderr",
     "output_type": "stream",
     "text": [
      "2023-06-10 17:49:16.501226: W tensorflow/tsl/framework/cpu_allocator_impl.cc:83] Allocation of 50910016 exceeds 10% of free system memory.\n"
     ]
    },
    {
     "name": "stdout",
     "output_type": "stream",
     "text": [
      "Epoch 1/50\n",
      "964/966 [============================>.] - ETA: 0s - loss: 0.3401 - accuracy: 0.9115"
     ]
    },
    {
     "name": "stderr",
     "output_type": "stream",
     "text": [
      "2023-06-10 17:49:33.435340: W tensorflow/tsl/framework/cpu_allocator_impl.cc:83] Allocation of 21819520 exceeds 10% of free system memory.\n"
     ]
    },
    {
     "name": "stdout",
     "output_type": "stream",
     "text": [
      "966/966 [==============================] - 19s 17ms/step - loss: 0.3400 - accuracy: 0.9115 - val_loss: 0.2360 - val_accuracy: 0.9174\n",
      "Epoch 2/50\n",
      "966/966 [==============================] - 15s 16ms/step - loss: 0.2344 - accuracy: 0.9182 - val_loss: 0.2254 - val_accuracy: 0.9183\n",
      "Epoch 3/50\n",
      "966/966 [==============================] - 14s 15ms/step - loss: 0.2268 - accuracy: 0.9200 - val_loss: 0.2206 - val_accuracy: 0.9198\n",
      "Epoch 4/50\n",
      "966/966 [==============================] - 16s 16ms/step - loss: 0.2200 - accuracy: 0.9204 - val_loss: 0.2119 - val_accuracy: 0.9228\n",
      "Epoch 5/50\n",
      "966/966 [==============================] - 18s 19ms/step - loss: 0.2189 - accuracy: 0.9216 - val_loss: 0.2097 - val_accuracy: 0.9231\n",
      "Epoch 6/50\n",
      "966/966 [==============================] - 14s 15ms/step - loss: 0.2160 - accuracy: 0.9218 - val_loss: 0.2191 - val_accuracy: 0.9117\n",
      "Epoch 7/50\n",
      "966/966 [==============================] - 14s 14ms/step - loss: 0.2142 - accuracy: 0.9227 - val_loss: 0.2166 - val_accuracy: 0.9225\n",
      "Epoch 8/50\n",
      "966/966 [==============================] - 14s 14ms/step - loss: 0.2118 - accuracy: 0.9228 - val_loss: 0.2164 - val_accuracy: 0.9223\n",
      "Epoch 9/50\n",
      "966/966 [==============================] - 16s 16ms/step - loss: 0.2111 - accuracy: 0.9229 - val_loss: 0.2105 - val_accuracy: 0.9232\n",
      "Epoch 10/50\n",
      "966/966 [==============================] - 15s 16ms/step - loss: 0.2105 - accuracy: 0.9234 - val_loss: 0.2155 - val_accuracy: 0.9235\n",
      "Epoch 11/50\n",
      "966/966 [==============================] - 14s 15ms/step - loss: 0.2083 - accuracy: 0.9245 - val_loss: 0.2102 - val_accuracy: 0.9241\n",
      "Epoch 12/50\n",
      "966/966 [==============================] - 15s 15ms/step - loss: 0.2081 - accuracy: 0.9242 - val_loss: 0.2053 - val_accuracy: 0.9247\n",
      "Epoch 13/50\n",
      "966/966 [==============================] - 26s 26ms/step - loss: 0.2075 - accuracy: 0.9245 - val_loss: 0.2074 - val_accuracy: 0.9230\n",
      "Epoch 14/50\n",
      "966/966 [==============================] - 18s 19ms/step - loss: 0.2065 - accuracy: 0.9249 - val_loss: 0.2029 - val_accuracy: 0.9253\n",
      "Epoch 15/50\n",
      "966/966 [==============================] - 14s 15ms/step - loss: 0.2059 - accuracy: 0.9251 - val_loss: 0.2036 - val_accuracy: 0.9248\n",
      "Epoch 16/50\n",
      "966/966 [==============================] - 16s 16ms/step - loss: 0.2043 - accuracy: 0.9256 - val_loss: 0.2048 - val_accuracy: 0.9245\n",
      "Epoch 17/50\n",
      "966/966 [==============================] - 16s 17ms/step - loss: 0.2055 - accuracy: 0.9249 - val_loss: 0.2038 - val_accuracy: 0.9256\n",
      "Epoch 18/50\n",
      "966/966 [==============================] - 14s 15ms/step - loss: 0.2036 - accuracy: 0.9258 - val_loss: 0.2025 - val_accuracy: 0.9253\n",
      "Epoch 19/50\n",
      "966/966 [==============================] - 14s 15ms/step - loss: 0.2039 - accuracy: 0.9258 - val_loss: 0.2037 - val_accuracy: 0.9251\n",
      "Epoch 20/50\n",
      "966/966 [==============================] - 16s 17ms/step - loss: 0.2024 - accuracy: 0.9261 - val_loss: 0.2036 - val_accuracy: 0.9249\n",
      "Epoch 21/50\n",
      "966/966 [==============================] - 16s 17ms/step - loss: 0.2024 - accuracy: 0.9263 - val_loss: 0.2015 - val_accuracy: 0.9255\n",
      "Epoch 22/50\n",
      "966/966 [==============================] - 14s 15ms/step - loss: 0.2027 - accuracy: 0.9262 - val_loss: 0.2028 - val_accuracy: 0.9253\n",
      "Epoch 23/50\n",
      "966/966 [==============================] - 14s 15ms/step - loss: 0.2026 - accuracy: 0.9258 - val_loss: 0.2101 - val_accuracy: 0.9247\n",
      "Epoch 24/50\n",
      "966/966 [==============================] - 16s 17ms/step - loss: 0.2021 - accuracy: 0.9258 - val_loss: 0.2068 - val_accuracy: 0.9245\n",
      "Epoch 25/50\n",
      "966/966 [==============================] - 17s 17ms/step - loss: 0.2018 - accuracy: 0.9257 - val_loss: 0.2036 - val_accuracy: 0.9256\n",
      "Epoch 26/50\n",
      "966/966 [==============================] - 15s 15ms/step - loss: 0.2007 - accuracy: 0.9269 - val_loss: 0.2052 - val_accuracy: 0.9245\n",
      "Epoch 27/50\n",
      "966/966 [==============================] - 14s 15ms/step - loss: 0.2003 - accuracy: 0.9267 - val_loss: 0.2035 - val_accuracy: 0.9258\n",
      "Epoch 28/50\n",
      "966/966 [==============================] - 20s 20ms/step - loss: 0.2006 - accuracy: 0.9265 - val_loss: 0.2034 - val_accuracy: 0.9257\n",
      "Epoch 29/50\n",
      "966/966 [==============================] - 14s 15ms/step - loss: 0.2002 - accuracy: 0.9266 - val_loss: 0.2039 - val_accuracy: 0.9250\n",
      "Epoch 30/50\n",
      "966/966 [==============================] - 14s 15ms/step - loss: 0.1995 - accuracy: 0.9264 - val_loss: 0.2053 - val_accuracy: 0.9256\n",
      "Epoch 31/50\n",
      "966/966 [==============================] - 18s 18ms/step - loss: 0.1992 - accuracy: 0.9274 - val_loss: 0.2058 - val_accuracy: 0.9248\n",
      "Epoch 32/50\n",
      "966/966 [==============================] - 26s 27ms/step - loss: 0.1999 - accuracy: 0.9269 - val_loss: 0.2095 - val_accuracy: 0.9246\n",
      "Epoch 33/50\n",
      "966/966 [==============================] - 15s 15ms/step - loss: 0.1987 - accuracy: 0.9267 - val_loss: 0.2043 - val_accuracy: 0.9264\n",
      "Epoch 34/50\n",
      "966/966 [==============================] - 15s 15ms/step - loss: 0.1991 - accuracy: 0.9271 - val_loss: 0.2026 - val_accuracy: 0.9261\n",
      "Epoch 35/50\n",
      "966/966 [==============================] - 17s 18ms/step - loss: 0.1977 - accuracy: 0.9271 - val_loss: 0.2022 - val_accuracy: 0.9257\n",
      "Epoch 36/50\n",
      "966/966 [==============================] - 14s 15ms/step - loss: 0.1969 - accuracy: 0.9274 - val_loss: 0.2058 - val_accuracy: 0.9252\n",
      "Epoch 37/50\n",
      "966/966 [==============================] - 14s 15ms/step - loss: 0.1969 - accuracy: 0.9276 - val_loss: 0.2040 - val_accuracy: 0.9244\n",
      "Epoch 38/50\n",
      "966/966 [==============================] - 14s 14ms/step - loss: 0.1975 - accuracy: 0.9272 - val_loss: 0.2048 - val_accuracy: 0.9258\n",
      "Epoch 39/50\n",
      "966/966 [==============================] - 18s 19ms/step - loss: 0.1966 - accuracy: 0.9271 - val_loss: 0.2043 - val_accuracy: 0.9231\n",
      "Epoch 40/50\n",
      "966/966 [==============================] - 17s 18ms/step - loss: 0.1960 - accuracy: 0.9272 - val_loss: 0.2317 - val_accuracy: 0.9244\n",
      "Epoch 41/50\n",
      "966/966 [==============================] - 14s 14ms/step - loss: 0.1959 - accuracy: 0.9282 - val_loss: 0.2033 - val_accuracy: 0.9259\n",
      "Epoch 42/50\n",
      "966/966 [==============================] - 14s 14ms/step - loss: 0.1950 - accuracy: 0.9283 - val_loss: 0.2030 - val_accuracy: 0.9259\n",
      "Epoch 43/50\n",
      "966/966 [==============================] - 14s 15ms/step - loss: 0.1954 - accuracy: 0.9283 - val_loss: 0.2008 - val_accuracy: 0.9262\n",
      "Epoch 44/50\n",
      "966/966 [==============================] - 14s 15ms/step - loss: 0.1952 - accuracy: 0.9282 - val_loss: 0.2025 - val_accuracy: 0.9253\n",
      "Epoch 45/50\n",
      "966/966 [==============================] - 14s 14ms/step - loss: 0.1956 - accuracy: 0.9278 - val_loss: 0.2022 - val_accuracy: 0.9256\n",
      "Epoch 46/50\n",
      "966/966 [==============================] - 14s 14ms/step - loss: 0.1952 - accuracy: 0.9286 - val_loss: 0.2003 - val_accuracy: 0.9260\n",
      "Epoch 47/50\n",
      "966/966 [==============================] - 16s 16ms/step - loss: 0.1943 - accuracy: 0.9288 - val_loss: 0.2007 - val_accuracy: 0.9255\n",
      "Epoch 48/50\n",
      "966/966 [==============================] - 15s 15ms/step - loss: 0.1944 - accuracy: 0.9278 - val_loss: 0.2040 - val_accuracy: 0.9251\n",
      "Epoch 49/50\n",
      "966/966 [==============================] - 14s 14ms/step - loss: 0.1940 - accuracy: 0.9284 - val_loss: 0.2021 - val_accuracy: 0.9262\n",
      "Epoch 50/50\n",
      "966/966 [==============================] - 14s 15ms/step - loss: 0.1935 - accuracy: 0.9288 - val_loss: 0.2061 - val_accuracy: 0.9271\n"
     ]
    }
   ],
   "source": [
    "##Time to train!!\n",
    "history = nn_model.fit(X_train, y_train,validation_data = (X_test,y_test), epochs=50, batch_size=64)"
   ]
  },
  {
   "attachments": {},
   "cell_type": "markdown",
   "metadata": {},
   "source": [
    "history variable keeps values of every iteration, so let's visualize accuracy an losses"
   ]
  },
  {
   "cell_type": "code",
   "execution_count": 10,
   "metadata": {},
   "outputs": [
    {
     "data": {
      "image/png": "[encoded data removed]",
      "text/plain": [
       "<Figure size 720x360 with 2 Axes>"
      ]
     },
     "metadata": {
      "needs_background": "light"
     },
     "output_type": "display_data"
    }
   ],
   "source": [
    "#plot\n",
    "#ploting accuracy\n",
    "figure, (axis1,axis2) = plt.subplots(1, 2,figsize=(10, 5))\n",
    "figure.suptitle(\"Accuracy and Losses of model\", fontsize=16)\n",
    "axis1.plot(history.history['accuracy'])\n",
    "axis1.plot(history.history['val_accuracy'])\n",
    "axis1.title.set_text('Model accuracy')\n",
    "axis1.title.set_y('Accuracy')\n",
    "#axis1.title.set_x('Epoch')\n",
    "axis1.legend(['Train', 'Test'], loc='upper left')\n",
    "\n",
    "#ploting losses\n",
    "axis2.plot(history.history['loss'])\n",
    "axis2.plot(history.history['val_loss'])\n",
    "axis2.title.set_text('Model loss')\n",
    "axis2.title.set_y('Loss')\n",
    "#axis2.title.set_x('Epoch')\n",
    "axis2.legend(['Train', 'Test'], loc='upper right')\n",
    "\n",
    "#show the graph\n",
    "\n",
    "plt.show()"
   ]
  },
  {
   "cell_type": "code",
   "execution_count": 11,
   "metadata": {},
   "outputs": [
    {
     "name": "stderr",
     "output_type": "stream",
     "text": [
      "2023-06-10 18:02:40.253874: W tensorflow/tsl/framework/cpu_allocator_impl.cc:83] Allocation of 21819520 exceeds 10% of free system memory.\n"
     ]
    },
    {
     "name": "stdout",
     "output_type": "stream",
     "text": [
      "828/828 [==============================] - 4s 4ms/step\n"
     ]
    }
   ],
   "source": [
    "#predicting\n",
    "y_pred = nn_model.predict(X_test)"
   ]
  },
  {
   "attachments": {},
   "cell_type": "markdown",
   "metadata": {},
   "source": [
    "<p>So far, the model looks fine, let's continue to score it. To assess how well a model fits a dataset, we can look at the following two metrics:</p>\n",
    "<ul>\n",
    "    <li>Sensitivity: The probability that the model predicts a positive outcome for an observation when indeed the outcome is positive. This is also called the “true positive rate.”</li>\n",
    "    <li>Specificity: The probability that the model predicts a negative outcome for an observation when indeed the outcome is negative. This is also called the “true negative rate.”</li>\n",
    "</ul>\n",
    "<p>One way to visualize these two metrics is by creating a ROC curve, which stands for “receiver operating characteristic” curve.</p>\n",
    "\n",
    "<p>This is a plot that displays the sensitivity along the y-axis and (1 – specificity) along the x-axis.</p>\n",
    "\n",
    "<p>One way to quantify how well the logistic regression model does at classifying data is to calculate AUC, which stands for “area under curve.”</p>\n",
    "\n",
    "<P>The closer the AUC is to 1, the better the model is.</p>"
   ]
  },
  {
   "cell_type": "code",
   "execution_count": 12,
   "metadata": {},
   "outputs": [
    {
     "name": "stdout",
     "output_type": "stream",
     "text": [
      "Final Model Score\n",
      "=================\n",
      "AUC Score : 0.8805275488798692\n"
     ]
    }
   ],
   "source": [
    "#Calculate de AUC\n",
    "auc = roc_auc_score(y_test, y_pred)\n",
    "print('Final Model Score')\n",
    "print('=================')\n",
    "print(f'AUC Score : {auc}')"
   ]
  },
  {
   "cell_type": "code",
   "execution_count": 13,
   "metadata": {},
   "outputs": [],
   "source": [
    "#calculate roc\n",
    "falsePositiveRate, truePositiveRate, threathold = roc_curve(y_test, y_pred)"
   ]
  },
  {
   "cell_type": "code",
   "execution_count": 14,
   "metadata": {},
   "outputs": [
    {
     "data": {
      "image/png": "[encoded data removed]",
      "text/plain": [
       "<Figure size 576x576 with 1 Axes>"
      ]
     },
     "metadata": {
      "needs_background": "light"
     },
     "output_type": "display_data"
    }
   ],
   "source": [
    "#let's plot the \n",
    "fig, ax = plt.subplots(figsize = (8, 8))\n",
    "plt.plot(falsePositiveRate, truePositiveRate, linewidth = 2)\n",
    "plt.plot([0, 1], [0, 1], 'k--')\n",
    "ax.set_xlabel(\"False Positive Rate\", fontsize = 15)\n",
    "ax.set_ylabel(\"True Positive Rate\", fontsize = 15)\n",
    "ax.set_xticks(np.linspace(0, 1, 11));\n",
    "ax.set_yticks(np.linspace(0, 1, 11));"
   ]
  },
  {
   "attachments": {},
   "cell_type": "markdown",
   "metadata": {},
   "source": [
    "<hr>\n",
    "Tuning Parameters\n",
    "<hr>\n",
    "<p>A neural network has many hyperparameters to tune. Bayesian optimization is more efficient in time and memory capacity for tuning many hyperparameters.</p>\n",
    "<p>Ref: https://www.analyticsvidhya.com/blog/2021/05/tuning-the-hyperparameters-and-layers-of-neural-network-deep-learning/ </p>"
   ]
  },
  {
   "cell_type": "code",
   "execution_count": 19,
   "metadata": {},
   "outputs": [],
   "source": [
    "# Make scorer accuracy\n",
    "score_acc = make_scorer(accuracy_score)\n",
    "\n",
    "#objective function containing the Neural Network model. \n",
    "#eturn returns the score of the cross-validation.\n",
    "\n",
    "def nn_cl_bo(neurons, activation, optimizer, learning_rate,  batch_size, epochs ):\n",
    "    optimizerL = ['SGD', 'Adam', 'RMSprop', 'Adadelta', 'Adagrad', 'Adamax', 'Nadam', 'Ftrl','SGD']\n",
    "    optimizerD= {'Adam':Adam(learning_rate=learning_rate), 'SGD':SGD(learning_rate=learning_rate),\n",
    "                 'RMSprop':RMSprop(learning_rate=learning_rate), 'Adadelta':Adadelta(learning_rate=learning_rate),\n",
    "                 'Adagrad':Adagrad(learning_rate=learning_rate), 'Adamax':Adamax(learning_rate=learning_rate),\n",
    "                 'Nadam':Nadam(learning_rate=learning_rate), 'Ftrl':Ftrl(learning_rate=learning_rate)}\n",
    "    activationL = ['relu', 'sigmoid', 'softplus', 'softsign', 'tanh', 'selu',\n",
    "                   'elu', 'exponential', LeakyReLU,'relu']\n",
    "    neurons = round(neurons)\n",
    "    activation = activationL[round(activation)]\n",
    "    batch_size = round(batch_size)\n",
    "    epochs = round(epochs)\n",
    "    def nn_cl_fun():\n",
    "        opt = Adam(learning_rate= learning_rate)\n",
    "        #look!! here is setting another neural network in order to optimize it\n",
    "        nn = Sequential()\n",
    "        nn.add(Dense(neurons, input_dim=103, activation=activation))\n",
    "        nn.add(Dense(neurons, activation=activation))\n",
    "        nn.add(Dense(1, activation='sigmoid'))\n",
    "        nn.compile(loss='binary_crossentropy', optimizer=opt, metrics=['accuracy'])\n",
    "        return nn\n",
    "    \n",
    "    es = EarlyStopping(monitor='accuracy', mode='max', verbose=0, patience=20)\n",
    "    nn = KerasClassifier(model=nn_cl_fun, epochs=epochs, batch_size=batch_size, verbose=0)\n",
    "    \n",
    "    kfold = StratifiedKFold(n_splits=5, shuffle=True, random_state=123)\n",
    "    score = cross_val_score(nn, X_train, y_train, scoring=score_acc, cv=kfold, fit_params={'callbacks':[es]}).mean()\n",
    "    return score"
   ]
  },
  {
   "cell_type": "code",
   "execution_count": 20,
   "metadata": {},
   "outputs": [
    {
     "name": "stdout",
     "output_type": "stream",
     "text": [
      "|   iter    |  target   | activa... | batch_... |  epochs   | learni... |  neurons  | optimizer |\n",
      "-------------------------------------------------------------------------------------------------\n",
      "| \u001b[0m1        \u001b[0m | \u001b[0m0.9145   \u001b[0m | \u001b[0m5.51     \u001b[0m | \u001b[0m335.3    \u001b[0m | \u001b[0m54.88    \u001b[0m | \u001b[0m0.7716   \u001b[0m | \u001b[0m36.58    \u001b[0m | \u001b[0m1.044    \u001b[0m |\n",
      "| \u001b[0m2        \u001b[0m | \u001b[0m0.9145   \u001b[0m | \u001b[0m0.2023   \u001b[0m | \u001b[0m536.2    \u001b[0m | \u001b[0m39.09    \u001b[0m | \u001b[0m0.3443   \u001b[0m | \u001b[0m99.16    \u001b[0m | \u001b[0m1.664    \u001b[0m |\n",
      "| \u001b[0m3        \u001b[0m | \u001b[0m0.9145   \u001b[0m | \u001b[0m0.7307   \u001b[0m | \u001b[0m735.7    \u001b[0m | \u001b[0m69.7     \u001b[0m | \u001b[0m0.2815   \u001b[0m | \u001b[0m51.96    \u001b[0m | \u001b[0m0.8286   \u001b[0m |\n",
      "| \u001b[0m4        \u001b[0m | \u001b[0m0.9145   \u001b[0m | \u001b[0m0.6656   \u001b[0m | \u001b[0m920.6    \u001b[0m | \u001b[0m83.52    \u001b[0m | \u001b[0m0.8422   \u001b[0m | \u001b[0m83.37    \u001b[0m | \u001b[0m6.937    \u001b[0m |\n",
      "| \u001b[95m5        \u001b[0m | \u001b[95m0.9177   \u001b[0m | \u001b[95m5.195    \u001b[0m | \u001b[95m851.0    \u001b[0m | \u001b[95m53.71    \u001b[0m | \u001b[95m0.03717  \u001b[0m | \u001b[95m50.87    \u001b[0m | \u001b[95m0.7373   \u001b[0m |\n",
      "| \u001b[0m6        \u001b[0m | \u001b[0m0.9145   \u001b[0m | \u001b[0m7.355    \u001b[0m | \u001b[0m758.2    \u001b[0m | \u001b[0m65.22    \u001b[0m | \u001b[0m0.2815   \u001b[0m | \u001b[0m99.86    \u001b[0m | \u001b[0m0.9663   \u001b[0m |\n",
      "| \u001b[0m7        \u001b[0m | \u001b[0m0.9145   \u001b[0m | \u001b[0m5.539    \u001b[0m | \u001b[0m588.0    \u001b[0m | \u001b[0m52.4     \u001b[0m | \u001b[0m0.7306   \u001b[0m | \u001b[0m39.05    \u001b[0m | \u001b[0m2.804    \u001b[0m |\n",
      "| \u001b[0m8        \u001b[0m | \u001b[0m0.9145   \u001b[0m | \u001b[0m2.871    \u001b[0m | \u001b[0m957.8    \u001b[0m | \u001b[0m93.5     \u001b[0m | \u001b[0m0.8157   \u001b[0m | \u001b[0m13.07    \u001b[0m | \u001b[0m6.604    \u001b[0m |\n",
      "| \u001b[0m9        \u001b[0m | \u001b[0m0.9145   \u001b[0m | \u001b[0m8.554    \u001b[0m | \u001b[0m845.3    \u001b[0m | \u001b[0m58.5     \u001b[0m | \u001b[0m0.9671   \u001b[0m | \u001b[0m47.53    \u001b[0m | \u001b[0m2.232    \u001b[0m |\n",
      "| \u001b[0m10       \u001b[0m | \u001b[0m0.9145   \u001b[0m | \u001b[0m0.148    \u001b[0m | \u001b[0m230.5    \u001b[0m | \u001b[0m24.25    \u001b[0m | \u001b[0m0.1367   \u001b[0m | \u001b[0m13.0     \u001b[0m | \u001b[0m1.585    \u001b[0m |\n",
      "| \u001b[0m11       \u001b[0m | \u001b[0m0.9145   \u001b[0m | \u001b[0m4.895    \u001b[0m | \u001b[0m342.9    \u001b[0m | \u001b[0m34.35    \u001b[0m | \u001b[0m0.1581   \u001b[0m | \u001b[0m71.47    \u001b[0m | \u001b[0m3.283    \u001b[0m |\n",
      "| \u001b[0m12       \u001b[0m | \u001b[0m0.9145   \u001b[0m | \u001b[0m6.914    \u001b[0m | \u001b[0m735.1    \u001b[0m | \u001b[0m55.3     \u001b[0m | \u001b[0m0.5993   \u001b[0m | \u001b[0m51.55    \u001b[0m | \u001b[0m6.743    \u001b[0m |\n",
      "| \u001b[0m13       \u001b[0m | \u001b[0m0.9145   \u001b[0m | \u001b[0m1.33     \u001b[0m | \u001b[0m925.5    \u001b[0m | \u001b[0m59.83    \u001b[0m | \u001b[0m0.5966   \u001b[0m | \u001b[0m71.62    \u001b[0m | \u001b[0m1.242    \u001b[0m |\n",
      "| \u001b[0m14       \u001b[0m | \u001b[0m0.7971   \u001b[0m | \u001b[0m7.782    \u001b[0m | \u001b[0m585.7    \u001b[0m | \u001b[0m25.55    \u001b[0m | \u001b[0m0.3711   \u001b[0m | \u001b[0m42.54    \u001b[0m | \u001b[0m3.304    \u001b[0m |\n",
      "| \u001b[0m15       \u001b[0m | \u001b[0m0.9145   \u001b[0m | \u001b[0m1.615    \u001b[0m | \u001b[0m340.2    \u001b[0m | \u001b[0m95.93    \u001b[0m | \u001b[0m0.6591   \u001b[0m | \u001b[0m22.15    \u001b[0m | \u001b[0m6.495    \u001b[0m |\n",
      "| \u001b[0m16       \u001b[0m | \u001b[0m0.9152   \u001b[0m | \u001b[0m7.576    \u001b[0m | \u001b[0m242.2    \u001b[0m | \u001b[0m36.29    \u001b[0m | \u001b[0m0.8738   \u001b[0m | \u001b[0m70.65    \u001b[0m | \u001b[0m2.081    \u001b[0m |\n",
      "| \u001b[0m17       \u001b[0m | \u001b[0m0.9145   \u001b[0m | \u001b[0m6.61     \u001b[0m | \u001b[0m694.7    \u001b[0m | \u001b[0m36.84    \u001b[0m | \u001b[0m0.804    \u001b[0m | \u001b[0m15.32    \u001b[0m | \u001b[0m2.158    \u001b[0m |\n",
      "| \u001b[0m18       \u001b[0m | \u001b[0m0.9145   \u001b[0m | \u001b[0m1.866    \u001b[0m | \u001b[0m977.8    \u001b[0m | \u001b[0m92.75    \u001b[0m | \u001b[0m0.6797   \u001b[0m | \u001b[0m20.37    \u001b[0m | \u001b[0m6.706    \u001b[0m |\n",
      "| \u001b[0m19       \u001b[0m | \u001b[0m0.9145   \u001b[0m | \u001b[0m0.8254   \u001b[0m | \u001b[0m703.8    \u001b[0m | \u001b[0m92.23    \u001b[0m | \u001b[0m0.3464   \u001b[0m | \u001b[0m68.75    \u001b[0m | \u001b[0m6.476    \u001b[0m |\n",
      "| \u001b[0m20       \u001b[0m | \u001b[0m0.9145   \u001b[0m | \u001b[0m3.366    \u001b[0m | \u001b[0m817.1    \u001b[0m | \u001b[0m91.69    \u001b[0m | \u001b[0m0.624    \u001b[0m | \u001b[0m23.6     \u001b[0m | \u001b[0m2.624    \u001b[0m |\n",
      "| \u001b[0m21       \u001b[0m | \u001b[0m0.9145   \u001b[0m | \u001b[0m5.723    \u001b[0m | \u001b[0m567.3    \u001b[0m | \u001b[0m62.58    \u001b[0m | \u001b[0m0.3588   \u001b[0m | \u001b[0m69.39    \u001b[0m | \u001b[0m3.336    \u001b[0m |\n",
      "| \u001b[0m22       \u001b[0m | \u001b[0m0.9145   \u001b[0m | \u001b[0m4.091    \u001b[0m | \u001b[0m299.8    \u001b[0m | \u001b[0m53.0     \u001b[0m | \u001b[0m0.2804   \u001b[0m | \u001b[0m41.21    \u001b[0m | \u001b[0m6.821    \u001b[0m |\n",
      "| \u001b[0m23       \u001b[0m | \u001b[0m0.9145   \u001b[0m | \u001b[0m1.94     \u001b[0m | \u001b[0m746.3    \u001b[0m | \u001b[0m22.54    \u001b[0m | \u001b[0m0.837    \u001b[0m | \u001b[0m73.15    \u001b[0m | \u001b[0m6.762    \u001b[0m |\n",
      "| \u001b[0m24       \u001b[0m | \u001b[0m0.913    \u001b[0m | \u001b[0m5.326    \u001b[0m | \u001b[0m373.9    \u001b[0m | \u001b[0m77.54    \u001b[0m | \u001b[0m0.04056  \u001b[0m | \u001b[0m47.68    \u001b[0m | \u001b[0m1.969    \u001b[0m |\n",
      "| \u001b[0m25       \u001b[0m | \u001b[0m0.9145   \u001b[0m | \u001b[0m0.9562   \u001b[0m | \u001b[0m541.1    \u001b[0m | \u001b[0m87.25    \u001b[0m | \u001b[0m0.1193   \u001b[0m | \u001b[0m98.8     \u001b[0m | \u001b[0m1.633    \u001b[0m |\n",
      "| \u001b[0m26       \u001b[0m | \u001b[0m0.9145   \u001b[0m | \u001b[0m2.008    \u001b[0m | \u001b[0m586.6    \u001b[0m | \u001b[0m73.93    \u001b[0m | \u001b[0m0.4295   \u001b[0m | \u001b[0m37.38    \u001b[0m | \u001b[0m2.73     \u001b[0m |\n",
      "| \u001b[0m27       \u001b[0m | \u001b[0m0.9145   \u001b[0m | \u001b[0m2.387    \u001b[0m | \u001b[0m923.1    \u001b[0m | \u001b[0m60.87    \u001b[0m | \u001b[0m0.9823   \u001b[0m | \u001b[0m71.36    \u001b[0m | \u001b[0m4.103    \u001b[0m |\n",
      "| \u001b[0m28       \u001b[0m | \u001b[0m0.9145   \u001b[0m | \u001b[0m4.127    \u001b[0m | \u001b[0m612.1    \u001b[0m | \u001b[0m66.89    \u001b[0m | \u001b[0m0.6758   \u001b[0m | \u001b[0m31.8     \u001b[0m | \u001b[0m4.377    \u001b[0m |\n",
      "| \u001b[0m29       \u001b[0m | \u001b[0m0.9145   \u001b[0m | \u001b[0m8.571    \u001b[0m | \u001b[0m879.5    \u001b[0m | \u001b[0m61.7     \u001b[0m | \u001b[0m0.6367   \u001b[0m | \u001b[0m54.24    \u001b[0m | \u001b[0m6.248    \u001b[0m |\n",
      "=================================================================================================\n"
     ]
    }
   ],
   "source": [
    "#run the bayesian optimization, after set the hyperparameters\n",
    "# Set paramaters\n",
    "params_nn ={\n",
    "    'neurons': (10, 100),\n",
    "    'activation':(0, 9),\n",
    "    'optimizer':(0,7),\n",
    "    'learning_rate':(0.01, 1),\n",
    "    'batch_size':(200, 1000),\n",
    "    'epochs':(20, 100)\n",
    "}\n",
    "# Run Bayesian Optimization\n",
    "nn_bo = BayesianOptimization(nn_cl_bo, params_nn, random_state=111)\n",
    "nn_bo.maximize(init_points=25, n_iter=4)\n"
   ]
  },
  {
   "cell_type": "code",
   "execution_count": 21,
   "metadata": {},
   "outputs": [
    {
     "data": {
      "text/plain": [
       "{'activation': 'selu',\n",
       " 'batch_size': 851.0135336291902,\n",
       " 'epochs': 53.7054301919375,\n",
       " 'learning_rate': 0.037173480215022196,\n",
       " 'neurons': 50.872297884262295,\n",
       " 'optimizer': 0.7372825972056519}"
      ]
     },
     "execution_count": 21,
     "metadata": {},
     "output_type": "execute_result"
    }
   ],
   "source": [
    "#Here yhou are! the best hyperparameters\n",
    "params_nn_ = nn_bo.max['params']\n",
    "activationL = ['relu', 'sigmoid', 'softplus', 'softsign', 'tanh', 'selu',\n",
    "               'elu', 'exponential', LeakyReLU,'relu']\n",
    "params_nn_['activation'] = activationL[round(params_nn_['activation'])]\n",
    "params_nn_"
   ]
  },
  {
   "attachments": {},
   "cell_type": "markdown",
   "metadata": {},
   "source": [
    "Let's set the model again with the best parameters"
   ]
  },
  {
   "cell_type": "code",
   "execution_count": 23,
   "metadata": {},
   "outputs": [],
   "source": [
    "nn_model_tuned = Sequential()\n",
    "nn_model_tuned.add(Dense(params_nn_['neurons'], input_dim=103, activation=params_nn_['activation']))\n",
    "nn_model_tuned.add(Dense(params_nn_['neurons']/2, activation = params_nn_['activation']))\n",
    "nn_model_tuned.add(Dense(params_nn_['neurons']/4, activation = params_nn_['activation']))\n",
    "nn_model_tuned.add(Dense(1, activation='sigmoid'))\n",
    "nn_model_tuned.compile(loss='binary_crossentropy', optimizer='adam', metrics=['accuracy'])"
   ]
  },
  {
   "cell_type": "code",
   "execution_count": 27,
   "metadata": {},
   "outputs": [
    {
     "name": "stdout",
     "output_type": "stream",
     "text": [
      "Epoch 1/53\n",
      "73/73 [==============================] - 4s 14ms/step - loss: 2.8304 - accuracy: 0.8487 - val_loss: 0.7001 - val_accuracy: 0.8753\n",
      "Epoch 2/53\n",
      "73/73 [==============================] - 1s 8ms/step - loss: 0.5205 - accuracy: 0.8821 - val_loss: 0.3992 - val_accuracy: 0.9045\n",
      "Epoch 3/53\n",
      "73/73 [==============================] - 1s 7ms/step - loss: 0.3441 - accuracy: 0.8993 - val_loss: 0.3040 - val_accuracy: 0.9061\n",
      "Epoch 4/53\n",
      "73/73 [==============================] - 1s 7ms/step - loss: 0.2869 - accuracy: 0.9076 - val_loss: 0.2709 - val_accuracy: 0.9073\n",
      "Epoch 5/53\n",
      "73/73 [==============================] - 1s 9ms/step - loss: 0.2602 - accuracy: 0.9122 - val_loss: 0.2506 - val_accuracy: 0.9148\n",
      "Epoch 6/53\n",
      "73/73 [==============================] - 1s 8ms/step - loss: 0.2485 - accuracy: 0.9147 - val_loss: 0.2416 - val_accuracy: 0.9146\n",
      "Epoch 7/53\n",
      "73/73 [==============================] - 1s 8ms/step - loss: 0.2416 - accuracy: 0.9154 - val_loss: 0.2338 - val_accuracy: 0.9169\n",
      "Epoch 8/53\n",
      "73/73 [==============================] - 1s 9ms/step - loss: 0.2356 - accuracy: 0.9173 - val_loss: 0.2341 - val_accuracy: 0.9173\n",
      "Epoch 9/53\n",
      "73/73 [==============================] - 1s 7ms/step - loss: 0.2301 - accuracy: 0.9177 - val_loss: 0.2293 - val_accuracy: 0.9199\n",
      "Epoch 10/53\n",
      "73/73 [==============================] - 1s 8ms/step - loss: 0.2276 - accuracy: 0.9185 - val_loss: 0.2237 - val_accuracy: 0.9205\n",
      "Epoch 11/53\n",
      "73/73 [==============================] - 1s 9ms/step - loss: 0.2254 - accuracy: 0.9190 - val_loss: 0.2231 - val_accuracy: 0.9210\n",
      "Epoch 12/53\n",
      "73/73 [==============================] - 1s 8ms/step - loss: 0.2235 - accuracy: 0.9191 - val_loss: 0.2255 - val_accuracy: 0.9207\n",
      "Epoch 13/53\n",
      "73/73 [==============================] - 1s 8ms/step - loss: 0.2224 - accuracy: 0.9193 - val_loss: 0.2401 - val_accuracy: 0.9136\n",
      "Epoch 14/53\n",
      "73/73 [==============================] - 1s 8ms/step - loss: 0.2211 - accuracy: 0.9199 - val_loss: 0.2172 - val_accuracy: 0.9222\n",
      "Epoch 15/53\n",
      "73/73 [==============================] - 1s 8ms/step - loss: 0.2206 - accuracy: 0.9206 - val_loss: 0.2248 - val_accuracy: 0.9217\n",
      "Epoch 16/53\n",
      "73/73 [==============================] - 1s 8ms/step - loss: 0.2176 - accuracy: 0.9209 - val_loss: 0.2154 - val_accuracy: 0.9224\n",
      "Epoch 17/53\n",
      "73/73 [==============================] - 1s 8ms/step - loss: 0.2184 - accuracy: 0.9206 - val_loss: 0.2470 - val_accuracy: 0.9115\n",
      "Epoch 18/53\n",
      "73/73 [==============================] - 1s 9ms/step - loss: 0.2174 - accuracy: 0.9210 - val_loss: 0.2141 - val_accuracy: 0.9217\n",
      "Epoch 19/53\n",
      "73/73 [==============================] - 1s 8ms/step - loss: 0.2142 - accuracy: 0.9218 - val_loss: 0.2141 - val_accuracy: 0.9237\n",
      "Epoch 20/53\n",
      "73/73 [==============================] - 1s 8ms/step - loss: 0.2168 - accuracy: 0.9217 - val_loss: 0.2139 - val_accuracy: 0.9223\n",
      "Epoch 21/53\n",
      "73/73 [==============================] - 1s 8ms/step - loss: 0.2133 - accuracy: 0.9215 - val_loss: 0.2127 - val_accuracy: 0.9228\n",
      "Epoch 22/53\n",
      "73/73 [==============================] - 1s 9ms/step - loss: 0.2133 - accuracy: 0.9221 - val_loss: 0.2126 - val_accuracy: 0.9221\n",
      "Epoch 23/53\n",
      "73/73 [==============================] - 1s 8ms/step - loss: 0.2165 - accuracy: 0.9211 - val_loss: 0.2104 - val_accuracy: 0.9234\n",
      "Epoch 24/53\n",
      "73/73 [==============================] - 1s 8ms/step - loss: 0.2123 - accuracy: 0.9220 - val_loss: 0.2125 - val_accuracy: 0.9235\n",
      "Epoch 25/53\n",
      "73/73 [==============================] - 1s 8ms/step - loss: 0.2209 - accuracy: 0.9202 - val_loss: 0.2128 - val_accuracy: 0.9221\n",
      "Epoch 26/53\n",
      "73/73 [==============================] - 1s 8ms/step - loss: 0.2119 - accuracy: 0.9224 - val_loss: 0.2099 - val_accuracy: 0.9233\n",
      "Epoch 27/53\n",
      "73/73 [==============================] - 1s 8ms/step - loss: 0.2125 - accuracy: 0.9223 - val_loss: 0.2106 - val_accuracy: 0.9231\n",
      "Epoch 28/53\n",
      "73/73 [==============================] - 1s 9ms/step - loss: 0.2110 - accuracy: 0.9225 - val_loss: 0.2113 - val_accuracy: 0.9234\n",
      "Epoch 29/53\n",
      "73/73 [==============================] - 1s 9ms/step - loss: 0.2116 - accuracy: 0.9224 - val_loss: 0.2148 - val_accuracy: 0.9211\n",
      "Epoch 30/53\n",
      "73/73 [==============================] - 1s 11ms/step - loss: 0.2132 - accuracy: 0.9219 - val_loss: 0.2182 - val_accuracy: 0.9230\n",
      "Epoch 31/53\n",
      "73/73 [==============================] - 1s 9ms/step - loss: 0.2158 - accuracy: 0.9211 - val_loss: 0.2199 - val_accuracy: 0.9226\n",
      "Epoch 32/53\n",
      "73/73 [==============================] - 1s 8ms/step - loss: 0.2102 - accuracy: 0.9226 - val_loss: 0.2090 - val_accuracy: 0.9238\n",
      "Epoch 33/53\n",
      "73/73 [==============================] - 1s 8ms/step - loss: 0.2135 - accuracy: 0.9219 - val_loss: 0.2124 - val_accuracy: 0.9218\n",
      "Epoch 34/53\n",
      "73/73 [==============================] - 1s 10ms/step - loss: 0.2087 - accuracy: 0.9229 - val_loss: 0.2141 - val_accuracy: 0.9230\n",
      "Epoch 35/53\n",
      "73/73 [==============================] - 1s 8ms/step - loss: 0.2096 - accuracy: 0.9231 - val_loss: 0.2088 - val_accuracy: 0.9234\n",
      "Epoch 36/53\n",
      "73/73 [==============================] - 1s 9ms/step - loss: 0.2094 - accuracy: 0.9230 - val_loss: 0.2125 - val_accuracy: 0.9215\n",
      "Epoch 37/53\n",
      "73/73 [==============================] - 1s 8ms/step - loss: 0.2099 - accuracy: 0.9228 - val_loss: 0.2081 - val_accuracy: 0.9236\n",
      "Epoch 38/53\n",
      "73/73 [==============================] - 1s 8ms/step - loss: 0.2104 - accuracy: 0.9226 - val_loss: 0.2210 - val_accuracy: 0.9230\n",
      "Epoch 39/53\n",
      "73/73 [==============================] - 1s 8ms/step - loss: 0.2107 - accuracy: 0.9224 - val_loss: 0.2282 - val_accuracy: 0.9219\n",
      "Epoch 40/53\n",
      "73/73 [==============================] - 1s 9ms/step - loss: 0.2114 - accuracy: 0.9228 - val_loss: 0.2083 - val_accuracy: 0.9237\n",
      "Epoch 41/53\n",
      "73/73 [==============================] - 1s 8ms/step - loss: 0.2104 - accuracy: 0.9227 - val_loss: 0.2216 - val_accuracy: 0.9223\n",
      "Epoch 42/53\n",
      "73/73 [==============================] - 1s 9ms/step - loss: 0.2108 - accuracy: 0.9225 - val_loss: 0.2179 - val_accuracy: 0.9231\n",
      "Epoch 43/53\n",
      "73/73 [==============================] - 1s 8ms/step - loss: 0.2138 - accuracy: 0.9216 - val_loss: 0.2084 - val_accuracy: 0.9228\n",
      "Epoch 44/53\n",
      "73/73 [==============================] - 1s 8ms/step - loss: 0.2079 - accuracy: 0.9231 - val_loss: 0.2076 - val_accuracy: 0.9237\n",
      "Epoch 45/53\n",
      "73/73 [==============================] - 1s 8ms/step - loss: 0.2074 - accuracy: 0.9236 - val_loss: 0.2097 - val_accuracy: 0.9234\n",
      "Epoch 46/53\n",
      "73/73 [==============================] - 1s 10ms/step - loss: 0.2077 - accuracy: 0.9233 - val_loss: 0.2105 - val_accuracy: 0.9225\n",
      "Epoch 47/53\n",
      "73/73 [==============================] - 1s 8ms/step - loss: 0.2128 - accuracy: 0.9220 - val_loss: 0.2104 - val_accuracy: 0.9231\n",
      "Epoch 48/53\n",
      "73/73 [==============================] - 1s 8ms/step - loss: 0.2102 - accuracy: 0.9230 - val_loss: 0.2082 - val_accuracy: 0.9234\n",
      "Epoch 49/53\n",
      "73/73 [==============================] - 1s 8ms/step - loss: 0.2100 - accuracy: 0.9227 - val_loss: 0.2085 - val_accuracy: 0.9233\n",
      "Epoch 50/53\n",
      "73/73 [==============================] - 1s 8ms/step - loss: 0.2138 - accuracy: 0.9223 - val_loss: 0.2086 - val_accuracy: 0.9232\n",
      "Epoch 51/53\n",
      "73/73 [==============================] - 1s 10ms/step - loss: 0.2076 - accuracy: 0.9236 - val_loss: 0.2097 - val_accuracy: 0.9229\n",
      "Epoch 52/53\n",
      "73/73 [==============================] - 1s 8ms/step - loss: 0.2100 - accuracy: 0.9228 - val_loss: 0.2081 - val_accuracy: 0.9232\n",
      "Epoch 53/53\n",
      "73/73 [==============================] - 1s 8ms/step - loss: 0.2066 - accuracy: 0.9234 - val_loss: 0.2073 - val_accuracy: 0.9237\n"
     ]
    }
   ],
   "source": [
    "#train the tuned model\n",
    "history = nn_model_tuned.fit(X_train, y_train,validation_data = (X_test,y_test),\n",
    "                             epochs = trunc(params_nn_['epochs']),\n",
    "                             batch_size = trunc(params_nn_['batch_size']))"
   ]
  },
  {
   "cell_type": "code",
   "execution_count": 28,
   "metadata": {},
   "outputs": [
    {
     "data": {
      "image/png": "[encoded data removed]",
      "text/plain": [
       "<Figure size 720x360 with 2 Axes>"
      ]
     },
     "metadata": {
      "needs_background": "light"
     },
     "output_type": "display_data"
    }
   ],
   "source": [
    "#plot the final model\n",
    "#ploting accuracy\n",
    "figure, (axis1,axis2) = plt.subplots(1, 2,figsize=(10, 5))\n",
    "figure.suptitle(\"Accuracy and Losses of model\", fontsize=16)\n",
    "axis1.plot(history.history['accuracy'])\n",
    "axis1.plot(history.history['val_accuracy'])\n",
    "axis1.title.set_text('Model accuracy')\n",
    "axis1.title.set_y('Accuracy')\n",
    "#axis1.title.set_x('Epoch')\n",
    "axis1.legend(['Train', 'Test'], loc='upper left')\n",
    "\n",
    "#ploting losses\n",
    "axis2.plot(history.history['loss'])\n",
    "axis2.plot(history.history['val_loss'])\n",
    "axis2.title.set_text('Model loss')\n",
    "axis2.title.set_y('Loss')\n",
    "#axis2.title.set_x('Epoch')\n",
    "axis2.legend(['Train', 'Test'], loc='upper right')\n",
    "\n",
    "#show the graph\n",
    "\n",
    "plt.show()"
   ]
  },
  {
   "attachments": {},
   "cell_type": "markdown",
   "metadata": {},
   "source": [
    "<P>Great! we have a winner!</p>\n",
    "<hr>\n",
    "Save the model\n",
    "<hr>\n"
   ]
  },
  {
   "cell_type": "code",
   "execution_count": 32,
   "metadata": {},
   "outputs": [
    {
     "name": "stderr",
     "output_type": "stream",
     "text": [
      "WARNING:absl:Found untraced functions such as _update_step_xla while saving (showing 1 of 1). These functions will not be directly callable after loading.\n"
     ]
    },
    {
     "name": "stdout",
     "output_type": "stream",
     "text": [
      "INFO:tensorflow:Assets written to: ram://3a6c9d5d0c2c4543aa8f2732ae1db410/assets\n"
     ]
    },
    {
     "name": "stderr",
     "output_type": "stream",
     "text": [
      "INFO:tensorflow:Assets written to: ram://3a6c9d5d0c2c4543aa8f2732ae1db410/assets\n"
     ]
    }
   ],
   "source": [
    "joblib.dump(nn_model_tuned, '../models/ps_model.joblib', compress=5)\n",
    "X_test.to_csv('../datasets/dataset_test_final.csv',index=False)"
   ]
  }
 ],
 "metadata": {
  "kernelspec": {
   "display_name": "Python 3",
   "language": "python",
   "name": "python3"
  },
  "language_info": {
   "codemirror_mode": {
    "name": "ipython",
    "version": 3
   },
   "file_extension": ".py",
   "mimetype": "text/x-python",
   "name": "python",
   "nbconvert_exporter": "python",
   "pygments_lexer": "ipython3",
   "version": "3.8.10"
  },
  "orig_nbformat": 4
 },
 "nbformat": 4,
 "nbformat_minor": 2
}
