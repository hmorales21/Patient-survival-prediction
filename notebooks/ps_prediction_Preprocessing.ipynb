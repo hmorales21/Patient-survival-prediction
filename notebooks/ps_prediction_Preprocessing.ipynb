{
 "cells": [
  {
   "attachments": {},
   "cell_type": "markdown",
   "metadata": {},
   "source": [
    "<h1>Patient Survival Prediction</h1>\n",
    "<hr>\n",
    "<h2>Project 4</h2>\n",
    "<p>This project predicts the survival of pacients in a UCI.</p>\n",
    "<hr>"
   ]
  },
  {
   "cell_type": "code",
   "execution_count": null,
   "metadata": {},
   "outputs": [],
   "source": [
    "#importing libraries\n",
    "import numpy as np\n",
    "import pandas as pd\n",
    "import matplotlib.pyplot as plt\n",
    "import seaborn as sns\n",
    "import missingno as msno\n",
    "\n",
    "import plotly.express as px\n",
    "import plotly.offline as py\n",
    "import plotly.graph_objs as go\n",
    "import plotly.tools as tls\n",
    "import plotly.figure_factory as ff\n",
    "\n",
    "from utilerias import missing_values_table\n",
    "\n",
    "%matplotlib inline"
   ]
  },
  {
   "cell_type": "code",
   "execution_count": null,
   "metadata": {},
   "outputs": [],
   "source": [
    "df_patients = pd.read_csv('../datasets/Dataset_eda.csv')"
   ]
  },
  {
   "attachments": {},
   "cell_type": "markdown",
   "metadata": {},
   "source": [
    "<hr>\n",
    "<h2>Preprocessing</h2>\n",
    "<hr>\n",
    "<p>Missing Values Treatment</p>"
   ]
  },
  {
   "cell_type": "code",
   "execution_count": null,
   "metadata": {},
   "outputs": [],
   "source": [
    "df_patients.heads()"
   ]
  },
  {
   "cell_type": "code",
   "execution_count": null,
   "metadata": {},
   "outputs": [],
   "source": [
    "missing_values_table(df_patients).style.background_gradient(cmap='Blues')"
   ]
  },
  {
   "cell_type": "code",
   "execution_count": null,
   "metadata": {},
   "outputs": [],
   "source": [
    "msno.bar(df_patients)"
   ]
  },
  {
   "cell_type": "code",
   "execution_count": null,
   "metadata": {},
   "outputs": [],
   "source": [
    "#lets delete some features\n",
    "#1) those that seems not related\n",
    "lstFeaturesToDrop1 = ['encounter_id', 'hospital_admit_source', 'icu_admit_source', 'icu_id', 'icu_stay_type', 'patient_id', 'hospital_id', 'readmission_status']\n",
    "#2) those with 50% of missing values or more.\n",
    "lstFeaturesToDrop2 = ['h1_bilirubin_max'\n",
    ",'h1_bilirubin_min'\n",
    ",'h1_lactate_min'\n",
    ",'h1_lactate_max'\n",
    ",'h1_albumin_max'\n",
    ",'h1_albumin_min'\n",
    ",'h1_pao2fio2ratio_min'\n",
    ",'h1_pao2fio2ratio_max'\n",
    ",'h1_arterial_ph_min'\n",
    ",'h1_arterial_ph_max'\n",
    ",'h1_hco3_min'\n",
    ",'h1_hco3_max'\n",
    ",'h1_arterial_pco2_min'\n",
    ",'h1_arterial_pco2_max'\n",
    ",'h1_wbc_max'\n",
    ",'h1_wbc_min'\n",
    ",'h1_arterial_po2_max'\n",
    ",'h1_arterial_po2_min'\n",
    ",'h1_calcium_min'\n",
    ",'h1_calcium_max'\n",
    ",'h1_platelets_max'\n",
    ",'h1_platelets_min'\n",
    ",'h1_bun_min'\n",
    ",'h1_bun_max'\n",
    ",'h1_creatinine_min'\n",
    ",'h1_creatinine_max'\n",
    ",'h1_diasbp_invasive_max'\n",
    ",'h1_diasbp_invasive_min'\n",
    ",'h1_sysbp_invasive_max'\n",
    ",'h1_sysbp_invasive_min'\n",
    ",'h1_mbp_invasive_min'\n",
    ",'h1_mbp_invasive_max'\n",
    ",'h1_hematocrit_min'\n",
    ",'h1_hematocrit_max'\n",
    ",'h1_hemaglobin_max'\n",
    ",'h1_hemaglobin_min'\n",
    ",'h1_sodium_max'\n",
    ",'h1_sodium_min'\n",
    ",'h1_potassium_min'\n",
    ",'h1_potassium_max'\n",
    ",'ph_apache'\n",
    ",'pao2_apache'\n",
    ",'paco2_for_ph_apache'\n",
    ",'paco2_apache'\n",
    ",'fio2_apache'\n",
    ",'d1_lactate_max'\n",
    ",'d1_lactate_min'\n",
    ",'d1_diasbp_invasive_min'\n",
    ",'d1_diasbp_invasive_max'\n",
    ",'d1_sysbp_invasive_max'\n",
    ",'d1_sysbp_invasive_min'\n",
    ",'d1_mbp_invasive_min'\n",
    ",'d1_mbp_invasive_max'\n",
    ",'d1_pao2fio2ratio_min'\n",
    ",'d1_pao2fio2ratio_max'\n",
    ",'d1_arterial_ph_min'\n",
    ",'d1_arterial_ph_max'\n",
    ",'d1_arterial_pco2_max'\n",
    ",'d1_arterial_pco2_min'\n",
    ",'d1_arterial_po2_min'\n",
    ",'d1_arterial_po2_max'\n",
    ",'bilirubin_apache'\n",
    ",'h1_inr_max'\n",
    ",'d1_inr_min'\n",
    ",'h1_inr_min'\n",
    ",'d1_inr_max'\n",
    ",'albumin_apache'\n",
    ",'d1_bilirubin_min'\n",
    ",'d1_bilirubin_max'\n",
    ",'h1_glucose_min'\n",
    ",'h1_glucose_max'\n",
    ",'d1_albumin_min'\n",
    ",'d1_albumin_max'\n",
    ",'urineoutput_apache']"
   ]
  },
  {
   "cell_type": "code",
   "execution_count": null,
   "metadata": {},
   "outputs": [],
   "source": [
    "df_patients.drop(lstFeaturesToDrop1+lstFeaturesToDrop2,inplace=True)"
   ]
  },
  {
   "cell_type": "code",
   "execution_count": null,
   "metadata": {},
   "outputs": [],
   "source": [
    "#features related each other\n",
    "df_patients[df_patients[['bmi', 'weight', 'height']].isna().sum(axis=1) == 0]"
   ]
  }
 ],
 "metadata": {
  "language_info": {
   "name": "python"
  },
  "orig_nbformat": 4
 },
 "nbformat": 4,
 "nbformat_minor": 2
}
